{
 "cells": [
  {
   "cell_type": "code",
   "execution_count": null,
   "id": "91d970c7",
   "metadata": {
    "tags": []
   },
   "outputs": [],
   "source": [
    "#got it from: https://www.youtube.com/shorts/AaWaE2CEUF0\n",
    "\n",
    "import requests as r\n",
    "\n",
    "response = r.get(\"https://www.youtube.com/shorts/AaWaE2CEUF0\")\n",
    "html = response.text\n",
    "\n",
    "print(html)"
   ]
  }
 ],
 "metadata": {
  "kernelspec": {
   "display_name": "Python 3 (ipykernel)",
   "language": "python",
   "name": "python3"
  },
  "language_info": {
   "codemirror_mode": {
    "name": "ipython",
    "version": 3
   },
   "file_extension": ".py",
   "mimetype": "text/x-python",
   "name": "python",
   "nbconvert_exporter": "python",
   "pygments_lexer": "ipython3",
   "version": "3.10.6"
  }
 },
 "nbformat": 4,
 "nbformat_minor": 5
}
